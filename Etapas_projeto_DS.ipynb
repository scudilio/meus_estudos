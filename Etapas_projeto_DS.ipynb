{
  "nbformat": 4,
  "nbformat_minor": 0,
  "metadata": {
    "colab": {
      "name": "Etapas_projeto_DS",
      "provenance": [],
      "authorship_tag": "ABX9TyPdyMlCf2hSqljSfpObwX9T",
      "include_colab_link": true
    },
    "kernelspec": {
      "name": "python3",
      "display_name": "Python 3"
    }
  },
  "cells": [
    {
      "cell_type": "markdown",
      "metadata": {
        "id": "view-in-github",
        "colab_type": "text"
      },
      "source": [
        "<a href=\"https://colab.research.google.com/github/scudilio/meus_estudos/blob/main/Etapas_projeto_DS.ipynb\" target=\"_parent\"><img src=\"https://colab.research.google.com/assets/colab-badge.svg\" alt=\"Open In Colab\"/></a>"
      ]
    },
    {
      "cell_type": "markdown",
      "metadata": {
        "id": "-ZeCvmOEs2BZ"
      },
      "source": [
        "#**Título do projeto de DS**"
      ]
    },
    {
      "cell_type": "markdown",
      "metadata": {
        "id": "CiJvIh6nS4Ma"
      },
      "source": [
        " #**Título do projeto**"
      ]
    },
    {
      "cell_type": "markdown",
      "metadata": {
        "id": "8yAZ-Hj-Wzf5"
      },
      "source": [
        "## 1. Introdução do problema\n",
        "\n",
        "- Apresente seu problema e qual a relevância dele\n",
        "- Quais são os problemas que você irá resolver? \n",
        "- Qual seu público alvo? \n",
        "- Qual seu objetivo?"
      ]
    },
    {
      "cell_type": "markdown",
      "metadata": {
        "id": "sL2LpbGRW1C0"
      },
      "source": [
        "##2. Importando dataset e bibliotecas "
      ]
    },
    {
      "cell_type": "markdown",
      "metadata": {
        "id": "NnqUSyFIYCHM"
      },
      "source": [
        "##3. Análise de Exploratória de Dados (EDA)\n",
        "\n",
        "* Identifique as variáveis\n",
        "* Medidas Descritiva\n",
        "* Dados Faltantes\n",
        "* Outliers\n",
        "\n",
        "\n",
        "\n"
      ]
    },
    {
      "cell_type": "markdown",
      "metadata": {
        "id": "J7fAnQ-CcKJo"
      },
      "source": [
        "##4. Visualização de Dados\n",
        "\n",
        "* Análise Univariada\n",
        "* Análise Bivariada (scartterplot, correlação)\n",
        "* Quais gráficos irão ajudar a responder suas perguntas?\n"
      ]
    },
    {
      "cell_type": "markdown",
      "metadata": {
        "id": "zUWcdqWEdaQH"
      },
      "source": [
        "##5. Pré-processamento\n",
        "\n",
        "* Variáveis Categóricas ( dummies, transformar em numérica)\n",
        "* Variáveis Contínuas ( padronização das variáveis, categorização)\n",
        "* Separação Teste e Treinamento"
      ]
    },
    {
      "cell_type": "markdown",
      "metadata": {
        "id": "bTAKRBqKrfK6"
      },
      "source": [
        "## 6. Modelagem (Machine Learning)\n",
        "\n",
        "* Classificação/Regressão\n",
        "* Teste vários algoritmos \n",
        "* Teste vários cenários \n",
        "* Seleção de Variável\n",
        "* Ajuste Parâmetros\n",
        "* Métricas de Validação\n",
        "* Deploy"
      ]
    },
    {
      "cell_type": "markdown",
      "metadata": {
        "id": "oFj1VsYrr-df"
      },
      "source": [
        "#7. Conclusão\n",
        "* Resumo do artigo.\n",
        "* Quais sãos as principais resultados? \n",
        "* Qual era seu objetivo?\n",
        "* Quais conclusõe relavantes você levantou desses estudos? \n",
        "* Quais ações devo tomar a partir desses resultados?\n",
        "* Próximos passos (melhorias, continuação do projeto, etc)."
      ]
    }
  ]
}